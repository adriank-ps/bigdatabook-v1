{
 "cells": [
  {
   "cell_type": "code",
   "execution_count": 1,
   "metadata": {},
   "outputs": [],
   "source": [
    "from pyspark.sql import SparkSession"
   ]
  },
  {
   "cell_type": "code",
   "execution_count": 2,
   "metadata": {},
   "outputs": [],
   "source": [
    "spark = SparkSession.Builder().appName('adult').getOrCreate()"
   ]
  },
  {
   "cell_type": "markdown",
   "metadata": {},
   "source": [
    "[Dataset](http://archive.ics.uci.edu/ml/datasets/Adult)\n"
   ]
  },
  {
   "cell_type": "code",
   "execution_count": 3,
   "metadata": {},
   "outputs": [],
   "source": [
    "from pyspark.sql.types import StructType, StructField, DecimalType, StringType, IntegerType"
   ]
  },
  {
   "cell_type": "code",
   "execution_count": 4,
   "metadata": {},
   "outputs": [],
   "source": [
    "data_schema = StructType([\n",
    "    StructField('age', IntegerType()),\n",
    "    StructField('workclass', StringType()),\n",
    "    StructField('fnlwgt', IntegerType()),\n",
    "    StructField('education', StringType()),\n",
    "    StructField('education-num', IntegerType()),\n",
    "    StructField('marital-status', StringType()),\n",
    "    StructField('occupation', StringType()),\n",
    "    StructField('relationship', StringType()),\n",
    "    StructField('race', StringType()),\n",
    "    StructField('sex', StringType()),\n",
    "    StructField('capital-gain', IntegerType()),\n",
    "    StructField('capital-loss', IntegerType()),\n",
    "    StructField('hours-per-week', IntegerType()),\n",
    "    StructField('native-country', StringType()),\n",
    "    StructField('labels', StringType())\n",
    "])"
   ]
  },
  {
   "cell_type": "code",
   "execution_count": 43,
   "metadata": {},
   "outputs": [],
   "source": [
    "df = spark.read.load('hdfs://localhost/user/halamix2/input/adult.data', format='csv', sep=', ', header=False, schema=data_schema)"
   ]
  },
  {
   "cell_type": "code",
   "execution_count": 13,
   "metadata": {},
   "outputs": [],
   "source": [
    "data = df.replace('?', None) # replace all strings '?' with null value"
   ]
  },
  {
   "cell_type": "code",
   "execution_count": 14,
   "metadata": {},
   "outputs": [],
   "source": [
    "# data = data.na.drop() #remove all lines containing at least one null value\n",
    "data = data.na.fill('unknown')"
   ]
  },
  {
   "cell_type": "code",
   "execution_count": 15,
   "metadata": {},
   "outputs": [
    {
     "name": "stdout",
     "output_type": "stream",
     "text": [
      "32561\n",
      "32561\n"
     ]
    }
   ],
   "source": [
    "print(df.count())\n",
    "print(data.count())"
   ]
  },
  {
   "cell_type": "code",
   "execution_count": 16,
   "metadata": {},
   "outputs": [],
   "source": [
    "from pyspark.ml.feature import StringIndexer, OneHotEncoder"
   ]
  },
  {
   "cell_type": "code",
   "execution_count": 17,
   "metadata": {},
   "outputs": [
    {
     "name": "stdout",
     "output_type": "stream",
     "text": [
      "root\n",
      " |-- age: integer (nullable = true)\n",
      " |-- workclass: string (nullable = false)\n",
      " |-- fnlwgt: integer (nullable = true)\n",
      " |-- education: string (nullable = false)\n",
      " |-- education-num: integer (nullable = true)\n",
      " |-- marital-status: string (nullable = false)\n",
      " |-- occupation: string (nullable = false)\n",
      " |-- relationship: string (nullable = false)\n",
      " |-- race: string (nullable = false)\n",
      " |-- sex: string (nullable = false)\n",
      " |-- capital-gain: integer (nullable = true)\n",
      " |-- capital-loss: integer (nullable = true)\n",
      " |-- hours-per-week: integer (nullable = true)\n",
      " |-- native-country: string (nullable = false)\n",
      " |-- labels: string (nullable = false)\n",
      "\n"
     ]
    }
   ],
   "source": [
    "data.printSchema()"
   ]
  },
  {
   "cell_type": "code",
   "execution_count": 18,
   "metadata": {},
   "outputs": [],
   "source": [
    "workclass_indexer = StringIndexer(inputCol='workclass', outputCol='workclass_index')\n",
    "workclass_encoder = OneHotEncoder(inputCol='workclass_index', outputCol='workclass_encoded')\n",
    "\n",
    "education_indexer = StringIndexer(inputCol='education', outputCol='education_index')\n",
    "education_encoder = OneHotEncoder(inputCol='education_index', outputCol='education_encoded')\n",
    "\n",
    "marital_status_indexer = StringIndexer(inputCol='marital-status', outputCol='marital-status_index')\n",
    "marital_status_encoder = OneHotEncoder(inputCol='marital-status_index', outputCol='marital-status_encoded')\n",
    "\n",
    "occupation_indexer = StringIndexer(inputCol='occupation', outputCol='occupation_index')\n",
    "occupation_encoder = OneHotEncoder(inputCol='occupation_index', outputCol='occupation_encoded')\n",
    "\n",
    "relationship_indexer = StringIndexer(inputCol='relationship', outputCol='relationship_index')\n",
    "relationship_encoder = OneHotEncoder(inputCol='relationship_index', outputCol='relationship_encoded')\n",
    "\n",
    "race_indexer = StringIndexer(inputCol='race', outputCol='race_index')\n",
    "race_encoder = OneHotEncoder(inputCol='race_index', outputCol='race_encoded')\n",
    "\n",
    "sex_indexer = StringIndexer(inputCol='sex', outputCol='sex_index') #only 2  possibilities\n",
    "\n",
    "native_country_indexer = StringIndexer(inputCol='native-country', outputCol='native-country_index')\n",
    "native_country_encoder = OneHotEncoder(inputCol='native-country_index', outputCol='native-country_encoded')\n",
    "\n",
    "labels_indexer = StringIndexer(inputCol='labels', outputCol='labels_index') # only 2 possibilities"
   ]
  },
  {
   "cell_type": "code",
   "execution_count": 19,
   "metadata": {},
   "outputs": [],
   "source": [
    "from pyspark.ml.feature import VectorAssembler"
   ]
  },
  {
   "cell_type": "code",
   "execution_count": 20,
   "metadata": {},
   "outputs": [],
   "source": [
    "assembler = VectorAssembler(inputCols=['age',\n",
    " 'workclass_encoded',\n",
    " 'fnlwgt',\n",
    " 'education_encoded',\n",
    " 'education-num',\n",
    " 'marital-status_encoded',\n",
    " 'occupation_index',\n",
    " 'relationship_encoded',\n",
    " 'race_encoded',\n",
    " 'sex_index',\n",
    " 'capital-gain',\n",
    " 'capital-loss',\n",
    " 'hours-per-week',\n",
    " 'native-country_encoded',\n",
    " 'labels_index'], outputCol='features')"
   ]
  },
  {
   "cell_type": "code",
   "execution_count": 21,
   "metadata": {},
   "outputs": [],
   "source": [
    "from pyspark.ml import Pipeline"
   ]
  },
  {
   "cell_type": "code",
   "execution_count": 22,
   "metadata": {},
   "outputs": [],
   "source": [
    "pipeline = Pipeline(stages=[workclass_indexer,\n",
    "                            workclass_encoder,\n",
    "                            education_indexer,\n",
    "                            education_encoder,\n",
    "                            marital_status_indexer,\n",
    "                            marital_status_encoder,\n",
    "                            occupation_indexer,\n",
    "                            occupation_encoder,\n",
    "                            relationship_indexer,\n",
    "                            relationship_encoder,\n",
    "                            race_indexer,\n",
    "                            race_encoder,\n",
    "                            sex_indexer,\n",
    "                            native_country_indexer,\n",
    "                            native_country_encoder,\n",
    "                            labels_indexer,\n",
    "                            assembler\n",
    "                            ])"
   ]
  },
  {
   "cell_type": "code",
   "execution_count": 23,
   "metadata": {},
   "outputs": [],
   "source": [
    "prepared_data_pipeline = pipeline.fit(data)"
   ]
  },
  {
   "cell_type": "code",
   "execution_count": 24,
   "metadata": {},
   "outputs": [],
   "source": [
    "prepared_data = prepared_data_pipeline.transform(data)"
   ]
  },
  {
   "cell_type": "code",
   "execution_count": 25,
   "metadata": {},
   "outputs": [],
   "source": [
    "prepared_data = prepared_data.select(['features', 'labels_index'])"
   ]
  },
  {
   "cell_type": "code",
   "execution_count": 26,
   "metadata": {},
   "outputs": [
    {
     "name": "stdout",
     "output_type": "stream",
     "text": [
      "+---------------------------------------------------------------------------------------------------+------------+\n",
      "|features                                                                                           |labels_index|\n",
      "+---------------------------------------------------------------------------------------------------+------------+\n",
      "|(88,[0,5,9,12,25,27,32,34,38,43,45,46],[39.0,1.0,77516.0,1.0,13.0,1.0,3.0,1.0,1.0,2174.0,40.0,1.0])|0.0         |\n",
      "|(88,[0,2,9,12,25,26,32,33,38,45,46],[50.0,1.0,83311.0,1.0,13.0,1.0,2.0,1.0,1.0,13.0,1.0])          |0.0         |\n",
      "|(88,[0,1,9,10,25,28,32,34,38,45,46],[38.0,1.0,215646.0,1.0,9.0,1.0,9.0,1.0,1.0,40.0,1.0])          |0.0         |\n",
      "+---------------------------------------------------------------------------------------------------+------------+\n",
      "only showing top 3 rows\n",
      "\n"
     ]
    }
   ],
   "source": [
    "prepared_data.show(3, truncate=False)"
   ]
  },
  {
   "cell_type": "code",
   "execution_count": 27,
   "metadata": {},
   "outputs": [],
   "source": [
    "train_data, test_data = prepared_data.randomSplit([0.7, 0.3])"
   ]
  },
  {
   "cell_type": "code",
   "execution_count": 28,
   "metadata": {},
   "outputs": [],
   "source": [
    "from pyspark.ml.classification import RandomForestClassifier, DecisionTreeClassifier"
   ]
  },
  {
   "cell_type": "code",
   "execution_count": 29,
   "metadata": {},
   "outputs": [],
   "source": [
    "rf_classifier = RandomForestClassifier(featuresCol='features', labelCol='labels_index', numTrees=15)\n",
    "# dc_classifier = DecisionTreeClassifier(featuresCol='features', labelCol='labels_index')"
   ]
  },
  {
   "cell_type": "code",
   "execution_count": 30,
   "metadata": {},
   "outputs": [],
   "source": [
    "model = rf_classifier.fit(train_data)\n",
    "# model = dc_classifier.fit(train_data)"
   ]
  },
  {
   "cell_type": "code",
   "execution_count": 31,
   "metadata": {},
   "outputs": [],
   "source": [
    "prediction = model.transform(test_data)"
   ]
  },
  {
   "cell_type": "code",
   "execution_count": 32,
   "metadata": {},
   "outputs": [],
   "source": [
    "from pyspark.ml.evaluation import MulticlassClassificationEvaluator"
   ]
  },
  {
   "cell_type": "code",
   "execution_count": 33,
   "metadata": {},
   "outputs": [],
   "source": [
    "mc_evaluator = MulticlassClassificationEvaluator(\n",
    "    predictionCol='prediction',\n",
    "    labelCol='labels_index',\n",
    "    metricName=\"accuracy\")"
   ]
  },
  {
   "cell_type": "code",
   "execution_count": 34,
   "metadata": {},
   "outputs": [],
   "source": [
    "results = mc_evaluator.evaluate(prediction)"
   ]
  },
  {
   "cell_type": "code",
   "execution_count": 35,
   "metadata": {},
   "outputs": [
    {
     "data": {
      "text/plain": [
       "0.9905516610789393"
      ]
     },
     "execution_count": 35,
     "metadata": {},
     "output_type": "execute_result"
    }
   ],
   "source": [
    "results"
   ]
  },
  {
   "cell_type": "code",
   "execution_count": 36,
   "metadata": {},
   "outputs": [],
   "source": [
    "from pyspark.ml.evaluation import BinaryClassificationEvaluator"
   ]
  },
  {
   "cell_type": "code",
   "execution_count": 37,
   "metadata": {},
   "outputs": [],
   "source": [
    "bc_evaluator = BinaryClassificationEvaluator(rawPredictionCol='rawPrediction', labelCol='labels_index', metricName='areaUnderROC')"
   ]
  },
  {
   "cell_type": "code",
   "execution_count": 38,
   "metadata": {},
   "outputs": [],
   "source": [
    "bc_results = bc_evaluator.evaluate(prediction)"
   ]
  },
  {
   "cell_type": "code",
   "execution_count": 39,
   "metadata": {},
   "outputs": [
    {
     "name": "stdout",
     "output_type": "stream",
     "text": [
      "0.9998481862492663\n"
     ]
    }
   ],
   "source": [
    "print(bc_results)"
   ]
  },
  {
   "cell_type": "code",
   "execution_count": null,
   "metadata": {},
   "outputs": [],
   "source": []
  },
  {
   "cell_type": "code",
   "execution_count": null,
   "metadata": {},
   "outputs": [],
   "source": []
  }
 ],
 "metadata": {
  "kernelspec": {
   "display_name": "Python 3",
   "language": "python",
   "name": "python3"
  },
  "language_info": {
   "codemirror_mode": {
    "name": "ipython",
    "version": 3
   },
   "file_extension": ".py",
   "mimetype": "text/x-python",
   "name": "python",
   "nbconvert_exporter": "python",
   "pygments_lexer": "ipython3",
   "version": "3.8.2"
  }
 },
 "nbformat": 4,
 "nbformat_minor": 4
}
